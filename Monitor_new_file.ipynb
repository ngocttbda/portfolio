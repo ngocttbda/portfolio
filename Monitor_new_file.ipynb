{
 "cells": [
  {
   "cell_type": "code",
   "execution_count": 1,
   "id": "d98a9df5",
   "metadata": {},
   "outputs": [
    {
     "name": "stdout",
     "output_type": "stream",
     "text": [
      "Requirement already satisfied: watchdog in c:\\users\\ngocttb\\appdata\\local\\anaconda3\\lib\\site-packages (2.1.6)\n",
      "Note: you may need to restart the kernel to use updated packages.\n"
     ]
    }
   ],
   "source": [
    "pip install watchdog"
   ]
  },
  {
   "cell_type": "code",
   "execution_count": 2,
   "id": "e676eca9",
   "metadata": {},
   "outputs": [
    {
     "name": "stdout",
     "output_type": "stream",
     "text": [
      "Requirement already satisfied: schedule in c:\\users\\ngocttb\\appdata\\local\\anaconda3\\lib\\site-packages (1.2.0)Note: you may need to restart the kernel to use updated packages.\n",
      "\n"
     ]
    }
   ],
   "source": [
    "pip install schedule"
   ]
  },
  {
   "cell_type": "code",
   "execution_count": null,
   "id": "3185e7d4",
   "metadata": {},
   "outputs": [],
   "source": [
    "from watchdog.observers import Observer\n",
    "from watchdog.events import FileSystemEventHandler\n",
    "import time\n",
    "import os\n",
    "import re\n",
    "import pandas as pd\n",
    "import datetime\n",
    "\n",
    "def process_data(df, date_report):\n",
    "    # Khởi tạo danh sách để lưu trữ các dòng dữ liệu\n",
    "    data = []\n",
    "\n",
    "    # Xử lý từng dòng dữ liệu\n",
    "    cap1 = cap2 = cap3 = cap4 = \"\"\n",
    "    unit = day = month = year = note = kpi = \"\"\n",
    "    for index, row in df.iterrows():\n",
    "        line = row['NỘI DUNG']\n",
    "        unit = row['ĐƠN VỊ'] if not pd.isna(row['ĐƠN VỊ']) else \"\"\n",
    "        day = row['NGÀY'] if not pd.isna(row['NGÀY']) else \"\"\n",
    "        month = row['THÁNG'] if not pd.isna(row['THÁNG']) else \"\"\n",
    "        year = row['NĂM'] if not pd.isna(row['NĂM']) else \"\"\n",
    "        note = row['GHI CHÚ'] if not pd.isna(row['GHI CHÚ']) else \"\"\n",
    "        kpi = row['CÔNG SUẤT THỰC TẾ (theo tích lũy năm)'] if not pd.isna(row['CÔNG SUẤT THỰC TẾ (theo tích lũy năm)']) else \"\"\n",
    "    \n",
    "        # Xác định cấp của dòng dựa trên các quy tắc logic\n",
    "        \n",
    "        if not pd.isna(line) and isinstance(line, str):\n",
    "            # Xác định cấp của dòng dựa trên các quy tắc logic\n",
    "            if re.match(r\"^[A-Z]+\\.\\s\", line):\n",
    "                cap1 = line\n",
    "                cap2 = cap3 = cap4 = \"\"\n",
    "            elif re.match(r\"^\\d+\\.\\s\", line):\n",
    "                cap2 = line\n",
    "                cap3 = cap4 = \"\"\n",
    "            elif re.match(r\"^\\d+\\.\\d+\\s\", line):\n",
    "                cap3 = line\n",
    "                cap4 = \"\"\n",
    "            elif re.match(r\"^- \", line):\n",
    "                cap4 = line\n",
    "\n",
    "            # Loại bỏ các ký tự không mong muốn từ các cột cấp\n",
    "            cap1 = re.sub(r\"^[A-Z]\\. \", \"\", cap1.strip())\n",
    "            cap2 = re.sub(r\"^\\d+\\. \", \"\", cap2.strip())\n",
    "            cap3 = re.sub(r\"^\\d+\\.\\d+ \", \"\", cap3.strip())\n",
    "            cap4 = re.sub(r\"^- \", \"\", cap4.strip())\n",
    "\n",
    "            # Thêm dòng mới vào danh sách data\n",
    "            data.append([date_report, cap1, cap2, cap3, cap4, unit, day, month, year, note, kpi])\n",
    "\n",
    "    # Chuyển danh sách data thành DataFrame và trả về kết quả\n",
    "    result_df = pd.DataFrame(data, columns=[\"NGÀY BÁO CÁO\", \"CẤP 1\", \"CẤP 2\", \"CẤP 3\", \"CẤP 4\", \"ĐƠN VỊ\", \"NGÀY\", \"THÁNG\", \"NĂM\", \"GHI CHÚ\", \"CÔNG SUẤT THỰC TẾ (theo tích lũy năm)\"])\n",
    "    return result_df\n",
    "\n",
    "class MyHandler(FileSystemEventHandler):\n",
    "    def on_created(self, event):\n",
    "        # Kiểm tra xem có phải là tệp mới được thêm vào không\n",
    "        if not event.is_directory and (event.src_path.endswith('.xlsx') or event.src_path.endswith('.xls')):\n",
    "            # Đường dẫn tới tệp mới\n",
    "            new_file_path = event.src_path\n",
    "\n",
    "            # Đọc ngày báo cáo từ dòng đầu tiên của file Excel mới nhất\n",
    "            first_row_df = pd.read_excel(new_file_path, nrows=1)\n",
    "            date_report = re.findall(r'\\d{2}/\\d{2}/\\d{4}', first_row_df.columns[0])[0]\n",
    "            date_report = datetime.datetime.strptime(date_report, '%d/%m/%Y').strftime('%Y-%m-%d')\n",
    "\n",
    "            # Đọc dữ liệu từ file Excel mới nhất, bắt đầu từ dòng thứ 2 (index=1)\n",
    "            df = pd.read_excel(new_file_path, skiprows=1)\n",
    "\n",
    "            # Xử lý dữ liệu\n",
    "            processed_df = process_data(df, date_report)\n",
    "            print(processed_df)\n",
    "\n",
    "            # Tạo tên file Excel mới\n",
    "            output_file_name = 'Result_' + os.path.basename(new_file_path)\n",
    "\n",
    "            # Tạo thư mục KẾT QUẢ nếu chưa tồn tại\n",
    "            output_dir = os.path.expanduser('~/PVN_RESULT_DAILY/KET QUA')\n",
    "            if not os.path.exists(output_dir):\n",
    "                os.makedirs(output_dir)\n",
    "\n",
    "            # Định nghĩa đường dẫn đến file Excel mới\n",
    "            output_file_path = os.path.join(output_dir, output_file_name)\n",
    "\n",
    "            # Lưu kết quả vào file Excel mới\n",
    "            processed_df.to_excel(output_file_path, index=False)\n",
    "\n",
    "# Tạo một đối tượng giám sát\n",
    "event_handler = MyHandler()\n",
    "observer = Observer()\n",
    "\n",
    "# Đường dẫn tới thư mục cần giám sát\n",
    "directory_to_watch = os.path.expanduser('~/PVN_BÁO CÁO NGÀY/DATA_TEST')\n",
    "\n",
    "# Đăng ký sự kiện giám sát và bắt đầu giám sát\n",
    "observer.schedule(event_handler, path=directory_to_watch, recursive=True)\n",
    "observer.start()\n",
    "\n",
    "try:\n",
    "    while True:\n",
    "        time.sleep(1)\n",
    "except KeyboardInterrupt:\n",
    "    observer.stop()\n",
    "observer.join()"
   ]
  },
  {
   "cell_type": "code",
   "execution_count": null,
   "id": "361a3d04",
   "metadata": {},
   "outputs": [],
   "source": []
  }
 ],
 "metadata": {
  "kernelspec": {
   "display_name": "Python 3 (ipykernel)",
   "language": "python",
   "name": "python3"
  },
  "language_info": {
   "codemirror_mode": {
    "name": "ipython",
    "version": 3
   },
   "file_extension": ".py",
   "mimetype": "text/x-python",
   "name": "python",
   "nbconvert_exporter": "python",
   "pygments_lexer": "ipython3",
   "version": "3.11.4"
  }
 },
 "nbformat": 4,
 "nbformat_minor": 5
}
